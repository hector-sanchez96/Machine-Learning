{
 "cells": [
  {
   "cell_type": "markdown",
   "metadata": {},
   "source": [
    "# Energy Consumption Forecasting Using Machine Learning. "
   ]
  },
  {
   "cell_type": "markdown",
   "metadata": {},
   "source": [
    "The following blocks of code will take you through a step by step process in which you will perform exploratory analysis on the dataset you upload and use machine learning to make predictions on energy consumption.\n",
    "\n",
    "Please make you read and understand the user manual before you continue. The intstructions contain specific details on how to load your data and execute each section of the notebook."
   ]
  },
  {
   "cell_type": "markdown",
   "metadata": {},
   "source": [
    "Once all the packages are installed, you can proceed and import them:"
   ]
  },
  {
   "cell_type": "code",
   "execution_count": null,
   "metadata": {},
   "outputs": [],
   "source": [
    "from ipywidgets import interact, interactive, interact_manual\n",
    "import ipywidgets as widgets\n",
    "from matplotlib.dates import DateFormatter\n",
    "import matplotlib.dates as mdates\n",
    "import Loading_and_cleansing_01 as ld  #This is the script that loads the data.\n",
    "import pandas as pd\n",
    "import numpy as np\n",
    "from datetime import datetime\n",
    "import calendar\n",
    "import time\n",
    "import matplotlib.pyplot as plt\n",
    "from statsmodels.tsa.seasonal import seasonal_decompose"
   ]
  },
  {
   "cell_type": "markdown",
   "metadata": {},
   "source": [
    "Use the following cell to provide the full file path of the file you want to upload (between the quotation marks next to r):"
   ]
  },
  {
   "cell_type": "code",
   "execution_count": null,
   "metadata": {
    "scrolled": true
   },
   "outputs": [],
   "source": [
    "file=r\"\"\n",
    "categorical=[] #optional - depends on the dataset\n",
    "data=ld.load(file)"
   ]
  },
  {
   "cell_type": "markdown",
   "metadata": {},
   "source": [
    "## Exploratory Data Analysis"
   ]
  },
  {
   "cell_type": "markdown",
   "metadata": {},
   "source": [
    "Now that the data have been loaded, let's have a look at the first and last rows of the dataset."
   ]
  },
  {
   "cell_type": "code",
   "execution_count": null,
   "metadata": {},
   "outputs": [],
   "source": [
    "print(\"First 4 rows:\")\n",
    "data.head(4)"
   ]
  },
  {
   "cell_type": "code",
   "execution_count": null,
   "metadata": {},
   "outputs": [],
   "source": [
    "print(\"Last 4 rows:\")\n",
    "data.tail(4)"
   ]
  },
  {
   "cell_type": "markdown",
   "metadata": {},
   "source": [
    "The following are the data types of each column and some general properties of the dataset:\n"
   ]
  },
  {
   "cell_type": "code",
   "execution_count": null,
   "metadata": {
    "scrolled": true
   },
   "outputs": [],
   "source": [
    "data.info(memory_usage='deep')\n",
    "data.describe()"
   ]
  },
  {
   "cell_type": "markdown",
   "metadata": {},
   "source": [
    "If you want to view a different time period, execute the following cell and change start and end dates using the date pickers: "
   ]
  },
  {
   "cell_type": "code",
   "execution_count": null,
   "metadata": {},
   "outputs": [],
   "source": [
    "print (' ')\n",
    "print ('Minimum date in dataset: '+str(data.index.min()))\n",
    "print ('Maximum date in dataset: '+str(data.index.max()))\n",
    "print (' ')\n",
    "\n",
    "def filter_data(initial_d, last_d):\n",
    "    filtered = data.loc[initial_d : last_d].copy()\n",
    "    return filtered\n",
    "    \n",
    "return_1 = interact(filter_data,\n",
    "             initial_d=widgets.DatePicker(value=pd.to_datetime(str(data.index.min()))),\n",
    "             last_d=widgets.DatePicker(value=pd.to_datetime(str(data.index.max()))))\n"
   ]
  },
  {
   "cell_type": "markdown",
   "metadata": {},
   "source": [
    "\n",
    "\n",
    "Now we will create a graphical representation of our data using a line chart, select an appropriate time range using the date pickers and press the \"Run Interact\" button, please note that the first time you execute the cell below and every time you change the parameters, you have to press the button so that the values you provide are captured. To create the chart, follow the previous steps and then run the cell below it:\n",
    "\n"
   ]
  },
  {
   "cell_type": "code",
   "execution_count": null,
   "metadata": {
    "scrolled": true
   },
   "outputs": [],
   "source": [
    "print (' ')\n",
    "print ('Minimum date in dataset: '+str(data.index.min()))\n",
    "print ('Maximum date in dataset: '+str(data.index.max()))\n",
    "print (' ')\n",
    "\n",
    "def filter_for_chart(initial_date, last_date):\n",
    "    filtered = data.loc[initial_date : last_date].copy()\n",
    "    return filtered\n",
    "    \n",
    "return_2 = interactive(filter_for_chart, {'manual': True},\n",
    "             initial_date=widgets.DatePicker(value=pd.to_datetime(str(data.index.min()))),\n",
    "             last_date=widgets.DatePicker(value=pd.to_datetime(str(data.index.max()))))\n",
    "\n",
    "display(return_2)\n"
   ]
  },
  {
   "cell_type": "code",
   "execution_count": null,
   "metadata": {
    "scrolled": true
   },
   "outputs": [],
   "source": [
    "\n",
    "p=return_2.kwargs#get the dictionary produced by the widget\n",
    "i=str(p.get('initial_date'))#extract dates captured in date picker\n",
    "f=str(p.get('last_date'))\n",
    "plot_data= data.loc[i : f].copy()\n",
    "\n",
    "# Define the date format\n",
    "myFmt = DateFormatter('%Y-%m-%d  %H:%M') \n",
    "\n",
    "# plot the data\n",
    "fig, ax = plt.subplots()\n",
    "ax.plot(plot_data.loc[:,'energy_consumption'], color='green', marker='o', linewidth=0.3, markersize=3 )\n",
    "ax.set(xlabel=\"Date-Time\", ylabel='Energy consumption.')\n",
    "ax.set(title=\"Energy consumption\")\n",
    "ax.xaxis.set_major_formatter(myFmt) \n",
    "fig.autofmt_xdate()\n",
    "fig.set_size_inches(17.5, 5.2)\n",
    "\n",
    "del(p, i, f, plot_data)"
   ]
  },
  {
   "cell_type": "markdown",
   "metadata": {},
   "source": [
    "The following is the decomposition of your time series data (make sure you update freq and filter parameters according to your data):"
   ]
  },
  {
   "cell_type": "code",
   "execution_count": null,
   "metadata": {},
   "outputs": [],
   "source": [
    "filter= 500 #<-- update with the number od observations that you want to see\n",
    "\n",
    "decomposition = seasonal_decompose(data.iloc[0:filter,-1],\n",
    "                                   freq=48, # <-- Update\n",
    "                                   model='multiplicative')\n",
    "\n",
    "decomposition.plot()"
   ]
  },
  {
   "cell_type": "markdown",
   "metadata": {},
   "source": [
    "## Machine Learning Models"
   ]
  },
  {
   "cell_type": "markdown",
   "metadata": {},
   "source": [
    "### Single-Step Ahead Predictions"
   ]
  },
  {
   "cell_type": "markdown",
   "metadata": {},
   "source": [
    "The following section contains a number of machine learning alogrithms that you can use to make one-step ahead predictions. \n",
    "Please specify the frequency of you time-series data below, for more information on the format of the frequency variable please refer to the user manual:"
   ]
  },
  {
   "cell_type": "code",
   "execution_count": null,
   "metadata": {},
   "outputs": [],
   "source": [
    "data_frequency='30min'    #Please type in the frequency between the quotation marks\n",
    "duplicate=pd.DataFrame(data, copy=True)       #<-- crate a copy of the original dataset in case you need to run this again\n",
    "new_data=pd.DataFrame(duplicate, copy=True)\n",
    "print(\"Executed\")\n"
   ]
  },
  {
   "cell_type": "markdown",
   "metadata": {},
   "source": [
    "#### Data Preparation:"
   ]
  },
  {
   "cell_type": "markdown",
   "metadata": {},
   "source": [
    "If you want to reduce the size of your dataset, use the following date picker to select a different time period, once you select the range of dates you want, please click on Run Interact and then run the following cell:"
   ]
  },
  {
   "cell_type": "code",
   "execution_count": null,
   "metadata": {},
   "outputs": [],
   "source": [
    "print (' ')\n",
    "print ('Minimum date in dataset: '+str(new_data.index.min()))\n",
    "print ('Maximum date in dataset: '+str(new_data.index.max()))\n",
    "print (' ')\n",
    "\n",
    "def reduce_size(initial_date, last_date):\n",
    "    new_data = pd.DataFrame(duplicate.loc[initial_date : last_date],copy=True)\n",
    "    \n",
    "    return new_data\n",
    "    \n",
    "return_3 = interactive(reduce_size, {'manual': True},\n",
    "             initial_date=widgets.DatePicker(value=pd.to_datetime(str(duplicate.index.min()))),\n",
    "             last_date=widgets.DatePicker(value=pd.to_datetime(str(duplicate.index.max()))))\n",
    "\n",
    "display(return_3)"
   ]
  },
  {
   "cell_type": "code",
   "execution_count": null,
   "metadata": {},
   "outputs": [],
   "source": [
    "p=return_3.kwargs#get the dictionary produced by the widget\n",
    "i=str(p.get('initial_date'))#extract dates captured in date picker\n",
    "f=str(p.get('last_date'))\n",
    "\n",
    "if i != 'None' and f != 'None':\n",
    "    new_data = pd.DataFrame(duplicate.loc[i : f],copy=True)\n",
    "    print('')\n",
    "    print('Your data has been re-sized.')\n",
    "    print('Number of rows and columns=  '+ str(new_data.shape))\n",
    "    print('')"
   ]
  },
  {
   "cell_type": "markdown",
   "metadata": {},
   "source": [
    "Now you will perform a number of transformations that will help to improve the models' accuracy: "
   ]
  },
  {
   "cell_type": "code",
   "execution_count": null,
   "metadata": {},
   "outputs": [],
   "source": [
    "#To substract trend and seasonal components from time series data\n",
    "#Please update the frequency argument accordingly (only integer values)\n",
    "trend, seasonal, residual, new_data, decomposition = ld.ts_decomposition(new_data, 48)# <-- Update with an integer value\n",
    "print(\"Executed\")"
   ]
  },
  {
   "cell_type": "code",
   "execution_count": null,
   "metadata": {},
   "outputs": [],
   "source": [
    "#You might get some warnings due to data type convesions, if so, you can ignore them.\n",
    "\n",
    "s, new_data= ld.scale_data(new_data)             #<-- Data normalization\n",
    "print(\"Executed\")\n"
   ]
  },
  {
   "cell_type": "code",
   "execution_count": null,
   "metadata": {},
   "outputs": [],
   "source": [
    "#The variable to predict contains the values of X that will be used to make a prediction on t \n",
    "#(the next value after the end of the dataset)\n",
    "\n",
    "new_data, to_predict=ld.shift_data(new_data, 1)  #<-- Number of lags you would like to create (change 2nd argument as needed)\n",
    "print(\"Executed\")\n"
   ]
  },
  {
   "cell_type": "code",
   "execution_count": null,
   "metadata": {},
   "outputs": [],
   "source": [
    "x_train, y_train, x_test, y_test= ld.split_data(new_data, 75)#You can specify the percentage of the training data size (as int)\n",
    "print(\"Executed\")\n"
   ]
  },
  {
   "cell_type": "code",
   "execution_count": null,
   "metadata": {},
   "outputs": [],
   "source": [
    "#Dataset for supervised learning - VISUAL INSPECTION:\n",
    "new_data.head(5) #<-- first 5  observations"
   ]
  },
  {
   "cell_type": "markdown",
   "metadata": {},
   "source": [
    "The following cell will import all the machine learning algorithms that will be utilized to predict energy consumption:"
   ]
  },
  {
   "cell_type": "code",
   "execution_count": null,
   "metadata": {},
   "outputs": [],
   "source": [
    "import ML_models as mlm\n",
    "print(\"Executed\")\n"
   ]
  },
  {
   "cell_type": "markdown",
   "metadata": {},
   "source": [
    "Before using the ML models, you need to define the window size and horizon parameters: "
   ]
  },
  {
   "cell_type": "code",
   "execution_count": null,
   "metadata": {},
   "outputs": [],
   "source": [
    "window = 100 # update accordingly\n",
    "horizon = 10 # update accordingly"
   ]
  },
  {
   "cell_type": "markdown",
   "metadata": {},
   "source": [
    "### K-NEAREST NEIGHBOURS"
   ]
  },
  {
   "cell_type": "markdown",
   "metadata": {},
   "source": [
    "The following cell will fit the KNN to your data, the window and horizon arguments will be passed to the function:"
   ]
  },
  {
   "cell_type": "code",
   "execution_count": null,
   "metadata": {
    "scrolled": false
   },
   "outputs": [],
   "source": [
    "\n",
    "c_v_results, best_k, KNN_train_MSE, KNN_test_MSE, KNN_test_y_hat = mlm.fit_knn_forecasting(x_train, y_train, x_test, y_test, window, horizon)\n",
    "print('')\n",
    "print('Best K: ' + str(best_k) + '    Train MSE: ' + str(KNN_train_MSE) + '        Test MSE: '+ str(KNN_test_MSE))\n",
    "print('')\n",
    "print('')\n",
    "print('')"
   ]
  },
  {
   "cell_type": "markdown",
   "metadata": {},
   "source": [
    "The following table shows the results of forward chaining cross validation where K represents the number o KNN and 'avg' represents the average MSE across all folds (from fold 1 to fold 9):"
   ]
  },
  {
   "cell_type": "code",
   "execution_count": null,
   "metadata": {},
   "outputs": [],
   "source": [
    "c_v_results"
   ]
  },
  {
   "cell_type": "markdown",
   "metadata": {},
   "source": [
    "At this point, the algorithm has already found the best K using the training data and it has performed single-setp ahead predictions on the test set. The following graph shows a comparison between the test data and the predictions that were made for the same time range:"
   ]
  },
  {
   "cell_type": "code",
   "execution_count": null,
   "metadata": {
    "scrolled": true
   },
   "outputs": [],
   "source": [
    "to_plot=y_test.merge(KNN_test_y_hat, left_index=True, right_index=True)\n",
    "to_plot.columns=['Y', 'Y_HAT']\n",
    "\n",
    "# Define the date format\n",
    "myFmt = DateFormatter('%Y-%m-%d  %H:%M') \n",
    "\n",
    "# plot the data\n",
    "fig, ax = plt.subplots()\n",
    "ax.plot(to_plot.iloc[:,0], color='green', marker='o', linewidth=0.8, markersize=2, label='Observed')\n",
    "ax.plot(to_plot.iloc[:,1], color='blue', marker='o', linewidth=0.8, markersize=2, label='KNN Prediction' )\n",
    "ax.set(xlabel=\"Date-Time\", ylabel='Energy consumption.')\n",
    "ax.set(title=\"Comparison between actual and predicted energy consumption.\")\n",
    "ax.xaxis.set_major_formatter(myFmt) \n",
    "fig.autofmt_xdate()\n",
    "plt.legend()\n",
    "fig.set_size_inches(17.5, 5.2)\n",
    "del(to_plot)"
   ]
  },
  {
   "cell_type": "markdown",
   "metadata": {},
   "source": [
    "Now that you have trained the model and found an optimal value for K, the following cell will generate a prediction on t (the value that is after the last observation in the test set) which means that this a prediction on unseen data, it is important to notice that variable best_k that was produced when the model was fitted, is passed to this function as \"best_k\", if you wish to change the parameter K you can replace \"best_k\" by the value you want:"
   ]
  },
  {
   "cell_type": "code",
   "execution_count": null,
   "metadata": {},
   "outputs": [],
   "source": [
    "knn_prediction =mlm.knn_predict_t(best_k, x_test.iloc[-window:,:], y_test.iloc[-window:,:], to_predict,f= data_frequency)\n"
   ]
  },
  {
   "cell_type": "markdown",
   "metadata": {},
   "source": [
    "Graphical representation of the prediction you just made: "
   ]
  },
  {
   "cell_type": "code",
   "execution_count": null,
   "metadata": {
    "scrolled": true
   },
   "outputs": [],
   "source": [
    "# Define the date format\n",
    "myFmt = DateFormatter('%Y-%m-%d  %H:%M') \n",
    "\n",
    "# plot the data\n",
    "fig, ax = plt.subplots()\n",
    "ax.plot(y_test.iloc[-window:,:], color='green', marker='o', linewidth=0.8, markersize=2, label='Original Time-Series')\n",
    "ax.plot(knn_prediction, color='blue', marker='o', linewidth=0.8, markersize=5, label='Future prediction' )\n",
    "ax.set(xlabel=\"Date-Time\", ylabel='Energy consumption.')\n",
    "ax.set(title=\"Energy Consumption Prediction\")\n",
    "ax.xaxis.set_major_formatter(myFmt) \n",
    "fig.autofmt_xdate()\n",
    "plt.legend()\n",
    "fig.set_size_inches(17.5, 5.2)"
   ]
  },
  {
   "cell_type": "markdown",
   "metadata": {},
   "source": [
    "### Gaussian Process Regression"
   ]
  },
  {
   "cell_type": "markdown",
   "metadata": {},
   "source": [
    "Now Gaussian Process Regression will be trained and tested:\n"
   ]
  },
  {
   "cell_type": "code",
   "execution_count": null,
   "metadata": {
    "scrolled": false
   },
   "outputs": [],
   "source": [
    "#Again in this case the window and horizon parameters you defined above are passed to this function\n",
    "#You might get a \"FutureWarning\" when you run the model, if that is the case, you can ignore it\n",
    "gp_kernel_parameters, gp_train_mse, gp_test_mse, gp_test_y_hat= mlm.fit_gaussian_process_forecasting(x_train, y_train, x_test, y_test, [0.01, 0.01, 0.01], window, horizon)\n",
    "\n",
    "print(\" \")\n",
    "print(\" \")\n",
    "print(\"Training MSE= \"+str(gp_train_mse)+\"     Test MSE= \"+str(gp_test_mse))\n"
   ]
  },
  {
   "cell_type": "markdown",
   "metadata": {},
   "source": [
    "Graphical representation of the test results: "
   ]
  },
  {
   "cell_type": "code",
   "execution_count": null,
   "metadata": {
    "scrolled": true
   },
   "outputs": [],
   "source": [
    "# Define the date format\n",
    "myFmt = DateFormatter('%Y-%m-%d  %H:%M') \n",
    "\n",
    "# plot the data\n",
    "fig, ax = plt.subplots()\n",
    "ax.plot(gp_test_y_hat, color='blue', linewidth=1, markersize=2, label='prediction_GP')\n",
    "ax.plot(y_test.iloc[window:window+horizon,:], color='green', marker='o', linewidth=1, markersize=2, label='Observed')\n",
    "ax.set(xlabel=\"Date-Time\", ylabel='Energy consumption.')\n",
    "ax.set(title=\"Energy Consumption Prediction\")\n",
    "ax.xaxis.set_major_formatter(myFmt) \n",
    "fig.autofmt_xdate()\n",
    "plt.legend()\n",
    "fig.set_size_inches(17.5, 5.2)"
   ]
  },
  {
   "cell_type": "markdown",
   "metadata": {},
   "source": [
    "Now you will predict an unseen observation t (which is right after the end of the dataset). Please note that the kernel parameters that were obtained in mlm.fit_gaussian_process_forecasting are now passed as arguments to the following function: "
   ]
  },
  {
   "cell_type": "code",
   "execution_count": null,
   "metadata": {},
   "outputs": [],
   "source": [
    " gp_prediction= mlm.gaussian_process_predict(x_test.iloc[-window:,:], y_test.iloc[-window:,:], to_predict, data_frequency,gp_kernel_parameters)"
   ]
  },
  {
   "cell_type": "markdown",
   "metadata": {},
   "source": [
    "Graphical representation:"
   ]
  },
  {
   "cell_type": "code",
   "execution_count": null,
   "metadata": {
    "scrolled": false
   },
   "outputs": [],
   "source": [
    "# Define the date format\n",
    "myFmt = DateFormatter('%Y-%m-%d  %H:%M') \n",
    "# plot the data\n",
    "fig, ax = plt.subplots()\n",
    "ax.plot(y_test.iloc[-window:,:], color='green', marker='o', linewidth=0.8, markersize=2, label='Original Time-Series')\n",
    "ax.plot(gp_prediction, color='blue', marker='o', linewidth=0.8, markersize=7, label='Future prediction' )\n",
    "ax.set(xlabel=\"Date-Time\", ylabel='Energy consumption.')\n",
    "ax.set(title=\"Energy Consumption Prediction\")\n",
    "ax.xaxis.set_major_formatter(myFmt)\n",
    "fig.autofmt_xdate()\n",
    "plt.legend()\n",
    "fig.set_size_inches(17.5, 5.2)"
   ]
  },
  {
   "cell_type": "markdown",
   "metadata": {},
   "source": [
    "### Support Vector Regression"
   ]
  },
  {
   "cell_type": "markdown",
   "metadata": {},
   "source": [
    "In the following section you will use SVM to make predictions in the same manner as the previous models. You might get  \"FutureWarning\" or \"DeprecationWarning\" during the execution of the function, if that is the case you can ignore those warnings:"
   ]
  },
  {
   "cell_type": "code",
   "execution_count": null,
   "metadata": {},
   "outputs": [],
   "source": [
    "search_result, svr_training_mse, svr_test_mse, svr_test_pred= mlm.train_svm(x_train, y_train, x_test, y_test, window, horizon)\n",
    "print(\" \")\n",
    "print(\" \")\n",
    "print(\"Training MSE= \"+str(svr_training_mse)+\"     Test MSE= \"+str(svr_test_mse))"
   ]
  },
  {
   "cell_type": "markdown",
   "metadata": {},
   "source": [
    "Graphical representation of the test results:"
   ]
  },
  {
   "cell_type": "code",
   "execution_count": null,
   "metadata": {},
   "outputs": [],
   "source": [
    "# Define the date format\n",
    "myFmt = DateFormatter('%Y-%m-%d  %H:%M') \n",
    "\n",
    "# plot the data\n",
    "fig, ax = plt.subplots()\n",
    "ax.plot(svr_test_pred, color='blue', linewidth=1, markersize=2, label='SVR Prediction')\n",
    "ax.plot(y_test.iloc[window:window+horizon,:], color='green', marker='o', linewidth=1, markersize=2, label='Observed')\n",
    "ax.set(xlabel=\"Date-Time\", ylabel='Energy consumption.')\n",
    "ax.set(title=\"Energy Consumption Prediction\")\n",
    "ax.xaxis.set_major_formatter(myFmt) \n",
    "fig.autofmt_xdate()\n",
    "plt.legend()\n",
    "fig.set_size_inches(17.5, 5.2)"
   ]
  },
  {
   "cell_type": "markdown",
   "metadata": {},
   "source": [
    "Now you will predict an unseen observation t (which is right after the end of the dataset). Please note that the results of the grid search are passed obtained from the training phases are passed to the following function: "
   ]
  },
  {
   "cell_type": "code",
   "execution_count": null,
   "metadata": {},
   "outputs": [],
   "source": [
    "svm_prediction= mlm.predict_svm(search_result, x_test.iloc[[-1],:],  to_predict, data_frequency)\n",
    "print(\"Executed\")"
   ]
  },
  {
   "cell_type": "code",
   "execution_count": null,
   "metadata": {},
   "outputs": [],
   "source": [
    "# Define the date format\n",
    "myFmt = DateFormatter('%Y-%m-%d  %H:%M') \n",
    "# plot the data\n",
    "fig, ax = plt.subplots()\n",
    "ax.plot(y_test.iloc[-window:,:], color='green', marker='o', linewidth=0.8, markersize=2, label='Original Time-Series')\n",
    "ax.plot(svm_prediction, color='blue', marker='o', linewidth=0.8, markersize=7, label='Future prediction' )\n",
    "ax.set(xlabel=\"Date-Time\", ylabel='Energy consumption.')\n",
    "ax.set(title=\"Energy Consumption Prediction\")\n",
    "ax.xaxis.set_major_formatter(myFmt)\n",
    "fig.autofmt_xdate()\n",
    "plt.legend()\n",
    "fig.set_size_inches(17.5, 5.2)"
   ]
  }
 ],
 "metadata": {
  "kernelspec": {
   "display_name": "Python 3",
   "language": "python",
   "name": "python3"
  },
  "language_info": {
   "codemirror_mode": {
    "name": "ipython",
    "version": 3
   },
   "file_extension": ".py",
   "mimetype": "text/x-python",
   "name": "python",
   "nbconvert_exporter": "python",
   "pygments_lexer": "ipython3",
   "version": "3.7.1"
  }
 },
 "nbformat": 4,
 "nbformat_minor": 2
}
